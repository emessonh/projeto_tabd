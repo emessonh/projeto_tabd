{
 "cells": [
  {
   "cell_type": "code",
   "execution_count": 3,
   "metadata": {},
   "outputs": [],
   "source": [
    "import pandas as pd\n",
    "import os\n",
    "\n",
    "current_dir_path = os.path.dirname(os.path.abspath('__file__'))"
   ]
  },
  {
   "cell_type": "markdown",
   "metadata": {},
   "source": [
    "## IDEB"
   ]
  },
  {
   "cell_type": "code",
   "execution_count": null,
   "metadata": {},
   "outputs": [],
   "source": [
    "ideb_municipios_path = os.path.join(current_dir_path, '..', 'bases', 'sociedade_e_educação', 'ideb_municipios.csv')\n",
    "\n",
    "\n",
    "df_ideb = pd.read_csv(ideb_municipios_path, sep=',')\n",
    "df_ideb = df_ideb[df_ideb['ensino_rede'] == 'Estadual']\n",
    "df_ideb = df_ideb[df_ideb['ensino_tipo'] == 'Ensino Médio']\n",
    "df_ideb = df_ideb.sort_values(by=['ano', 'no_mun'])\n",
    "df_ideb"
   ]
  },
  {
   "cell_type": "markdown",
   "metadata": {},
   "source": [
    "## PIB"
   ]
  },
  {
   "cell_type": "code",
   "execution_count": null,
   "metadata": {},
   "outputs": [],
   "source": [
    "pib_municipio_path = os.path.join(current_dir_path, '..', 'bases', 'sociedade_e_educação', 'pib_municipio.csv')\n",
    "\n",
    "df_pib = pd.read_csv(pib_municipio_path, sep=',')\n",
    "df_pib = df_pib[df_pib['ano'] >= 2010]\n",
    "df_pib"
   ]
  },
  {
   "cell_type": "markdown",
   "metadata": {},
   "source": [
    "## População Estimada por Idade"
   ]
  },
  {
   "cell_type": "code",
   "execution_count": null,
   "metadata": {},
   "outputs": [],
   "source": [
    "populacao_idade_path = os.path.join(current_dir_path, '..', 'bases', 'sociedade_e_educação', 'populacao_idade.csv')\n",
    "\n",
    "df_pop_idade = pd.read_csv(populacao_idade_path, sep=',')\n",
    "df_pop_idade = df_pop_idade[df_pop_idade['ano'] >= 2010]\n",
    "df_pop_idade"
   ]
  },
  {
   "cell_type": "markdown",
   "metadata": {},
   "source": [
    "## População Estimada"
   ]
  },
  {
   "cell_type": "code",
   "execution_count": null,
   "metadata": {},
   "outputs": [],
   "source": [
    "populacao_estimada_municipio_path = os.path.join(current_dir_path, '..', 'bases', 'sociedade_e_educação', 'populacao_estimada_municipio.csv')\n",
    "\n",
    "df_populacao = pd.read_csv(populacao_estimada_municipio_path, sep=',')\n",
    "df_populacao = df_populacao[df_populacao['ano'] >= 2010]\n",
    "df_populacao"
   ]
  },
  {
   "cell_type": "markdown",
   "metadata": {},
   "source": [
    "## Cadunico Municipios"
   ]
  },
  {
   "cell_type": "code",
   "execution_count": null,
   "metadata": {},
   "outputs": [],
   "source": [
    "cadunico_municipios_path = os.path.join(current_dir_path, '..', 'bases', 'sociedade_e_educação', 'cadunico_municipios.csv')\n",
    "\n",
    "df_cadunico = pd.read_csv(cadunico_municipios_path, sep=',')\n",
    "df_cadunico = df_cadunico[df_cadunico['inf_subcategoria'] == 'Dezembro']\n",
    "df_cadunico"
   ]
  }
 ],
 "metadata": {
  "kernelspec": {
   "display_name": "Python 3",
   "language": "python",
   "name": "python3"
  },
  "language_info": {
   "codemirror_mode": {
    "name": "ipython",
    "version": 3
   },
   "file_extension": ".py",
   "mimetype": "text/x-python",
   "name": "python",
   "nbconvert_exporter": "python",
   "pygments_lexer": "ipython3",
   "version": "3.10.12"
  }
 },
 "nbformat": 4,
 "nbformat_minor": 2
}
