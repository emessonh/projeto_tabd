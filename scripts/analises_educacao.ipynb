{
 "cells": [
  {
   "cell_type": "code",
   "execution_count": 2,
   "metadata": {},
   "outputs": [],
   "source": [
    "import pandas as pd\n",
    "import os\n",
    "\n",
    "current_dir_path = os.path.dirname(os.path.abspath('__file__'))"
   ]
  },
  {
   "cell_type": "code",
   "execution_count": null,
   "metadata": {},
   "outputs": [],
   "source": [
    "exames_tecnico_path = os.path.join(current_dir_path, '..', 'bases', 'educacao', 'exames_tecnico.csv')\n",
    "\n",
    "df_exames = pd.read_csv(exames_tecnico_path, sep=';')\n",
    "df_exames = df_exames.sort_values(by=['CAMPUS', 'CURSO/TURNO/INTEGRADO'])\n",
    "df_exames"
   ]
  },
  {
   "cell_type": "code",
   "execution_count": null,
   "metadata": {},
   "outputs": [],
   "source": [
    "ideb_municipios_path = os.path.join(current_dir_path, '..', 'bases', 'educacao', 'ideb_municipios.csv')\n",
    "\n",
    "df_ideb = pd.read_csv(ideb_municipios_path, sep=',')\n",
    "df_federal = df_ideb[df_ideb['ensino_rede'] == 'Federal']\n",
    "df_federal = df_federal.sort_values(by=['ano', 'no_mun'])\n",
    "df_federal"
   ]
  },
  {
   "cell_type": "code",
   "execution_count": null,
   "metadata": {},
   "outputs": [],
   "source": [
    "matricula_path = os.path.join(current_dir_path, '..', 'bases', 'educacao', 'matricula.csv')\n",
    "\n",
    "df_matricula = pd.read_csv(matricula_path, sep=',')\n",
    "df_federal = df_matricula[df_matricula['ensino_rede'] == 'Federal']\n",
    "df_ensino_medio = df_federal[df_federal['ensino_tipo'] == 'Ensino Médio']\n",
    "df_ensino_medio"
   ]
  },
  {
   "cell_type": "code",
   "execution_count": null,
   "metadata": {},
   "outputs": [],
   "source": [
    "rendimento_path = os.path.join(current_dir_path, '..', 'bases', 'educacao', 'rendimento.csv')\n",
    "\n",
    "df_rendimentos = pd.read_csv(rendimento_path, sep=',')\n",
    "df_federal = df_rendimentos[df_rendimentos['ensino_rede'] == 'Federal']\n",
    "df_ensino_medio = df_federal[df_federal['ensino_tipo'] == 'Ensino Médio']\n",
    "df_ensino_medio"
   ]
  }
 ],
 "metadata": {
  "kernelspec": {
   "display_name": "Python 3",
   "language": "python",
   "name": "python3"
  },
  "language_info": {
   "codemirror_mode": {
    "name": "ipython",
    "version": 3
   },
   "file_extension": ".py",
   "mimetype": "text/x-python",
   "name": "python",
   "nbconvert_exporter": "python",
   "pygments_lexer": "ipython3",
   "version": "3.10.12"
  }
 },
 "nbformat": 4,
 "nbformat_minor": 2
}
