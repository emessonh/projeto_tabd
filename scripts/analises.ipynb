{
 "cells": [
  {
   "cell_type": "code",
   "execution_count": 7,
   "metadata": {},
   "outputs": [],
   "source": [
    "import pandas as pd\n",
    "import os\n",
    "\n",
    "current_dir_path = os.path.dirname(os.path.abspath('__file__'))"
   ]
  },
  {
   "cell_type": "code",
   "execution_count": null,
   "metadata": {},
   "outputs": [],
   "source": [
    "qtd_matriculas_municipio_path = os.path.join(current_dir_path, '..', 'bases', 'dados', 'qtd_matriculas_municipio.csv')\n",
    "df = pd.read_csv(qtd_matriculas_municipio_path, sep=',')\n",
    "\n",
    "df_ensino_medio = df[df['ensino_tipo'] == 'Ensino Médio']\n",
    "df_estadual = df_ensino_medio[df_ensino_medio['ensino_rede'] == 'Estadual']\n",
    "df_estadual = df_estadual.sort_values(by=['ano', 'no_mun'])\n",
    "df_estadual"
   ]
  },
  {
   "cell_type": "code",
   "execution_count": null,
   "metadata": {},
   "outputs": [],
   "source": [
    "indicadores_escolar_estado_path = os.path.join(current_dir_path, '..', 'bases', 'dados', 'indicadores_escolar_estado.csv')\n",
    "\n",
    "df_indicadores = pd.read_csv(indicadores_escolar_estado_path, sep=',')\n",
    "\n",
    "# df_al = df_indicadores[df_indicadores['no_uf'] == 'Alagoas']\n",
    "df_ensino_medio = df_indicadores[df_indicadores['ensino_tipo'] == 'Ensino Médio']\n",
    "df_estadual = df_ensino_medio[df_ensino_medio['ensino_rede'] != 'Total']\n",
    "# df_recorte_periodo = df_estadual[df_estadual['ano'] >= 2017]\n",
    "df_estadual = df_estadual.sort_values(by=['ano', 'no_mun'])\n",
    "df_estadual"
   ]
  },
  {
   "cell_type": "code",
   "execution_count": null,
   "metadata": {},
   "outputs": [],
   "source": [
    "matricula_regiao_path = os.path.join(current_dir_path, '..', 'bases', 'dados', 'matricula_regiao.csv')\n",
    "\n",
    "df = pd.read_csv(matricula_regiao_path, sep=',')\n",
    "df_ensino_medio = df[df['ensino_tipo'] == 'Ensino Médio']\n",
    "df_estadual = df_ensino_medio[df_ensino_medio['ensino_rede'] == 'Estadual']\n",
    "df_estadual = df_estadual.sort_values(by=['ano', 'no_reg_plan'])\n",
    "df_estadual"
   ]
  }
 ],
 "metadata": {
  "kernelspec": {
   "display_name": "Python 3",
   "language": "python",
   "name": "python3"
  },
  "language_info": {
   "codemirror_mode": {
    "name": "ipython",
    "version": 3
   },
   "file_extension": ".py",
   "mimetype": "text/x-python",
   "name": "python",
   "nbconvert_exporter": "python",
   "pygments_lexer": "ipython3",
   "version": "3.10.12"
  }
 },
 "nbformat": 4,
 "nbformat_minor": 2
}
